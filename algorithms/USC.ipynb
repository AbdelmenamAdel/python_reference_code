{
 "cells": [
  {
   "cell_type": "markdown",
   "metadata": {},
   "source": [
    "Uniform Cost Search"
   ]
  },
  {
   "cell_type": "code",
   "execution_count": 5,
   "metadata": {},
   "outputs": [],
   "source": [
    "graph = {\n",
    "    \"S\":[(\"A\",2),(\"B\",3),(\"D\",5)],\n",
    "    \"C\":[(\"G\",2),(\"D\",1)],\n",
    "    \"A\":[(\"C\",4)],\n",
    "    \"D\":[(\"G\",5)],\n",
    "    \"B\":[(\"D\",4)],\n",
    "    \"G\":[]\n",
    "}"
   ]
  },
  {
   "cell_type": "markdown",
   "metadata": {},
   "source": [
    "Path Cost function"
   ]
  },
  {
   "cell_type": "code",
   "execution_count": 6,
   "metadata": {},
   "outputs": [],
   "source": [
    "def path_cost(path):\n",
    "    total_cost = 0\n",
    "    for (node, cost) in path:\n",
    "        total_cost += cost\n",
    "    return total_cost,path[-1][0]\n",
    "  "
   ]
  },
  {
   "cell_type": "markdown",
   "metadata": {},
   "source": [
    "Uniform-cost-function"
   ]
  },
  {
   "cell_type": "code",
   "execution_count": 7,
   "metadata": {},
   "outputs": [],
   "source": [
    "def UCS(graph, start, end):\n",
    "    visited = []\n",
    "    queue = [[(start, 0)]]\n",
    "    while queue:\n",
    "        queue.sort(key=path_cost)\n",
    "        path = queue.pop(0)\n",
    "        node = path[-1][0]\n",
    "        if node in visited:\n",
    "            continue\n",
    "        visited.append(node)\n",
    "        if node is end:\n",
    "            return path\n",
    "        for adjacent, cost in graph.get(node,[]):\n",
    "            new_path = path.copy()\n",
    "            new_path.append((adjacent, cost))\n",
    "            queue.append(new_path)"
   ]
  },
  {
   "cell_type": "markdown",
   "metadata": {},
   "source": [
    "Test the code here in the main program :"
   ]
  },
  {
   "cell_type": "code",
   "execution_count": null,
   "metadata": {},
   "outputs": [],
   "source": [
    "path = UCS(graph, 'S', 'G')\n",
    "print(\"Solution is : \",path)\n",
    "print(\"Cost of the solution is : \",path_cost(path))"
   ]
  }
 ],
 "metadata": {
  "kernelspec": {
   "display_name": "Python 3",
   "language": "python",
   "name": "python3"
  },
  "language_info": {
   "codemirror_mode": {
    "name": "ipython",
    "version": 3
   },
   "file_extension": ".py",
   "mimetype": "text/x-python",
   "name": "python",
   "nbconvert_exporter": "python",
   "pygments_lexer": "ipython3",
   "version": "3.12.4"
  }
 },
 "nbformat": 4,
 "nbformat_minor": 2
}
