{
 "cells": [
  {
   "cell_type": "markdown",
   "metadata": {},
   "source": [
    "Greedy Search Algorithm"
   ]
  },
  {
   "cell_type": "code",
   "execution_count": 7,
   "metadata": {},
   "outputs": [],
   "source": [
    "graph ={\n",
    "    'S': [('A', 1), ('B', 4)],\n",
    "    'A': [ ('B', 2),('C', 5),('G',12)],\n",
    "    'B': [('C', 2)],\n",
    "    'C': [('G', 3)],\n",
    "    'G': []\n",
    "}\n",
    "H_dict={\n",
    "    'S': 7,\n",
    "    'A': 6,\n",
    "    'B': 4,\n",
    "    'C': 2,\n",
    "    'G': 0\n",
    "}"
   ]
  },
  {
   "cell_type": "markdown",
   "metadata": {},
   "source": [
    "Path H Cost Function"
   ]
  },
  {
   "cell_type": "code",
   "execution_count": 6,
   "metadata": {},
   "outputs": [],
   "source": [
    "def path_h_cost(path):\n",
    "    return H_dict[path[-1][0]], path[-1][0]"
   ]
  },
  {
   "cell_type": "markdown",
   "metadata": {},
   "source": [
    "Greedy Algorithm"
   ]
  },
  {
   "cell_type": "code",
   "execution_count": 5,
   "metadata": {},
   "outputs": [],
   "source": [
    "def Greedy_Search(graph,start,goal):\n",
    "    visited=[]\n",
    "    queue=[[(start,0)]]\n",
    "    while queue:\n",
    "        queue.sort(key=path_h_cost)\n",
    "        path=queue.pop(0)\n",
    "        node=path[-1][0]\n",
    "        if node in visited:\n",
    "            continue\n",
    "        visited.append(node)\n",
    "        if node is goal:\n",
    "            return path\n",
    "        else:\n",
    "            for adjacent in graph.get(node,[]):\n",
    "                new_path=path.copy()\n",
    "                new_path.append(adjacent)\n",
    "                queue.append(new_path)\n"
   ]
  },
  {
   "cell_type": "markdown",
   "metadata": {},
   "source": [
    "Test The Code of Algorithm"
   ]
  },
  {
   "cell_type": "code",
   "execution_count": 8,
   "metadata": {},
   "outputs": [
    {
     "name": "stdout",
     "output_type": "stream",
     "text": [
      "Solution is :  [('S', 0), ('B', 4), ('C', 2), ('G', 3)]\n",
      "Cost of the solution is :  (0, 'G')\n"
     ]
    }
   ],
   "source": [
    "path=Greedy_Search(graph,'S','G')\n",
    "print(\"Solution is : \",path)\n",
    "print(\"Cost of the solution is : \",path_h_cost(path))"
   ]
  }
 ],
 "metadata": {
  "kernelspec": {
   "display_name": "Python 3",
   "language": "python",
   "name": "python3"
  },
  "language_info": {
   "codemirror_mode": {
    "name": "ipython",
    "version": 3
   },
   "file_extension": ".py",
   "mimetype": "text/x-python",
   "name": "python",
   "nbconvert_exporter": "python",
   "pygments_lexer": "ipython3",
   "version": "3.12.4"
  }
 },
 "nbformat": 4,
 "nbformat_minor": 2
}
